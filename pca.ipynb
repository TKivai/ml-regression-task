{
 "cells": [
  {
   "cell_type": "code",
   "execution_count": null,
   "metadata": {},
   "outputs": [],
   "source": [
    "import pandas as pd \n",
    "from numpy import array\n",
    "from sklearn.decomposition import PCA\n",
    "from sklearn.preprocessing import StandardScaler "
   ]
  },
  {
   "cell_type": "code",
   "execution_count": null,
   "metadata": {},
   "outputs": [],
   "source": [
    "data = pd.read_csv('Nairobi Office Price Ex.csv')"
   ]
  },
  {
   "cell_type": "code",
   "execution_count": null,
   "metadata": {},
   "outputs": [],
   "source": [
    "nominal=['LOC','FUR','WATER','HK_SER']\n",
    "ordinal=['AMB','PROX_SCH','PROX_ROAD','PROX_MALL']\n",
    "numerical=['SIZE']\n",
    "target=['PRICE']\n",
    "\n",
    "categorical_data=data.select_dtypes(include=['object']).copy()\n",
    "column_names=list(categorical_data.columns)\n",
    "#categorical_data.head()\n",
    "for feature in column_names:\n",
    "  categorical_data[feature]=categorical_data[feature].astype('category')\n",
    "for feature in ordinal:\n",
    "  categorical_data[feature]=categorical_data[feature].cat.codes\n",
    "categorical_data.head()"
   ]
  },
  {
   "cell_type": "code",
   "execution_count": null,
   "metadata": {},
   "outputs": [],
   "source": [
    "data_copy=categorical_data.copy()\n",
    "\n",
    "data_copy = pd.concat([pd.get_dummies(data_copy[nominal]),data_copy],axis=1) \n",
    "data_copy.drop(nominal,axis=1,inplace=True)\n",
    "#data_copy\n",
    "new_data = pd.concat([data_copy,data[numerical],data[target]],axis=1)"
   ]
  },
  {
   "cell_type": "code",
   "execution_count": null,
   "metadata": {},
   "outputs": [],
   "source": [
    "all_features = list(new_data.columns)\n",
    "X = new_data.loc[:,all_features].values\n",
    "y = new_data.loc[:,[\"PRICE\"]].values"
   ]
  },
  {
   "cell_type": "code",
   "execution_count": null,
   "metadata": {},
   "outputs": [],
   "source": [
    "X = StandardScaler().fit_transform(X)"
   ]
  },
  {
   "cell_type": "code",
   "execution_count": null,
   "metadata": {},
   "outputs": [],
   "source": [
    "pca = PCA(n_components=2)\n",
    "p_components = pca.fit_transform(X)\n",
    "pca_df = pd.DataFrame(p_components, columns=['PC1', 'PC2'])\n",
    "pca_df"
   ]
  }
 ],
 "metadata": {
  "language_info": {
   "codemirror_mode": {
    "name": "ipython",
    "version": 3
   },
   "file_extension": ".py",
   "mimetype": "text/x-python",
   "name": "python",
   "nbconvert_exporter": "python",
   "pygments_lexer": "ipython3",
   "version": "3.7.6-final"
  },
  "orig_nbformat": 2,
  "kernelspec": {
   "name": "python3",
   "display_name": "Python 3"
  }
 },
 "nbformat": 4,
 "nbformat_minor": 2
}
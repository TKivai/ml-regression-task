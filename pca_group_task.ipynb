{
  "nbformat": 4,
  "nbformat_minor": 0,
  "metadata": {
    "colab": {
      "name": "pca_task.ipynb",
      "provenance": [],
      "collapsed_sections": []
    },
    "kernelspec": {
      "name": "python3",
      "display_name": "Python 3"
    }
  },
  "cells": [
    {
      "cell_type": "code",
      "metadata": {
        "id": "w-_dybl9hZJI",
        "colab_type": "code",
        "colab": {}
      },
      "source": [
        "import pandas as pd \n",
        "from numpy import array\n",
        "from sklearn.decomposition import PCA\n",
        "from sklearn.preprocessing import StandardScaler \n",
        "import operator"
      ],
      "execution_count": 0,
      "outputs": []
    },
    {
      "cell_type": "code",
      "metadata": {
        "id": "NSR9FTwlhyGc",
        "colab_type": "code",
        "colab": {}
      },
      "source": [
        "data = pd.read_csv('train_data.csv')"
      ],
      "execution_count": 0,
      "outputs": []
    },
    {
      "cell_type": "markdown",
      "metadata": {
        "id": "BMYtvSvraMSE",
        "colab_type": "text"
      },
      "source": [
        "**The cell below is to get the number of empty values in the columns and filtered to only display columns which have empty values**"
      ]
    },
    {
      "cell_type": "code",
      "metadata": {
        "id": "cQGeIgdiATQs",
        "colab_type": "code",
        "colab": {}
      },
      "source": [
        "null_counts = list(data.isna().sum())\n",
        "null_dict = {}\n",
        "cols = list(data.columns)\n",
        "for key in cols:\n",
        "  null_dict[key] = null_counts.pop(0)\n",
        "\n",
        "null_dict_2 = dict(filter(lambda elem: elem[1] != 0, null_dict.items()))\n",
        "null_dict_2"
      ],
      "execution_count": 0,
      "outputs": []
    },
    {
      "cell_type": "code",
      "metadata": {
        "id": "MU7YmAmd-3on",
        "colab_type": "code",
        "colab": {}
      },
      "source": [
        "data['Alley'].fillna('None', inplace=True)\n",
        "data['BsmtCond'].fillna('None', inplace=True)\n",
        "data['BsmtExposure'].fillna('None', inplace=True)\n",
        "data['BsmtFinType1'].fillna('None', inplace=True)\n",
        "data['BsmtFinType2'].fillna('None', inplace=True)\n",
        "data['BsmtQual'].fillna('None', inplace=True)\n",
        "\n",
        "#data = data[data.Electrical.notnull()]  #Drop row with empty value for this attribute since it is only one row\n",
        "data['Electrical'].fillna('None', inplace=True) #Empty value represents no electricity\n",
        "\n",
        "data['Fence'].fillna('None', inplace=True)\n",
        "data['FireplaceQu'].fillna('None', inplace=True)\n",
        "data['GarageCond'].fillna('None', inplace=True)\n",
        "data['GarageFinish'].fillna('None', inplace=True)\n",
        "data['GarageQual'].fillna('None', inplace=True)\n",
        "data['GarageType'].fillna('None', inplace=True)\n",
        "data['GarageYrBlt'].fillna(0, inplace=True) #The empty values are for no garage. Chose Year 0 to represent it \n",
        "\n",
        "data['LotFrontage'].fillna(0, inplace=True) #For empty values, assume no Street connected to property\n",
        "\n",
        "data['MasVnrArea'].fillna(0, inplace=True) \n",
        "data['MasVnrType'].fillna('None', inplace=True)  \n",
        "data['MiscFeature'].fillna('None', inplace=True)\n",
        "data['PoolQC'].fillna('None', inplace=True)"
      ],
      "execution_count": 0,
      "outputs": []
    },
    {
      "cell_type": "code",
      "metadata": {
        "id": "YqFEh1Trh959",
        "colab_type": "code",
        "colab": {}
      },
      "source": [
        "nominal = ['Neighborhood','Condition1' , 'Condition2', 'RoofStyle', 'RoofMatl', 'Exterior1st', 'Exterior2nd']\n",
        "nominal.extend(['MasVnrType', 'Electrical', 'PavedDrive', 'Foundation', 'Heating', 'GarageType', 'MiscFeature'])\n",
        "nominal.extend(['SaleType', 'SaleCondition'])\n",
        "\n",
        "ordinal = ['MSZoning', 'Street', 'Alley', 'LotShape', 'LandContour', 'Utilities', 'LotConfig', 'LandSlope']\n",
        "ordinal.extend(['BldgType', 'HouseStyle', 'ExterQual', 'ExterCond', 'BsmtQual', 'BsmtCond', 'BsmtExposure'])\n",
        "ordinal.extend(['BsmtFinType1', 'BsmtFinType2', 'HeatingQC', 'CentralAir', 'KitchenQual', 'Functional'])\n",
        "ordinal.extend(['FireplaceQu', 'GarageFinish', 'GarageQual', 'GarageCond', 'PoolQC', 'Fence'])\n",
        "\n",
        "numerical = ['MSSubClass', 'LotFrontage', 'LotArea', 'OverallQual', 'OverallCond', 'YearBuilt', 'YearRemodAdd']\n",
        "numerical.extend(['MasVnrArea', 'BsmtFinSF1', 'BsmtFinSF2', 'BsmtUnfSF', 'TotalBsmtSF', '1stFlrSF', '2ndFlrSF'])\n",
        "numerical.extend(['LowQualFinSF', 'GrLivArea', 'BsmtFullBath', 'BsmtHalfBath', 'FullBath', 'HalfBath'])\n",
        "numerical.extend(['BedroomAbvGr', 'KitchenAbvGr', 'TotRmsAbvGrd', 'Fireplaces', 'GarageYrBlt', 'GarageCars', 'GarageArea'])\n",
        "numerical.extend(['WoodDeckSF', 'OpenPorchSF', 'EnclosedPorch', '3SsnPorch', 'ScreenPorch', 'PoolArea'])\n",
        "numerical.extend(['MiscVal', 'MoSold', 'YrSold'])\n",
        "\n",
        "target = ['SalePrice']"
      ],
      "execution_count": 0,
      "outputs": []
    },
    {
      "cell_type": "code",
      "metadata": {
        "id": "Qhl9cLDS9bag",
        "colab_type": "code",
        "colab": {}
      },
      "source": [
        "categorical_data = data.select_dtypes(include=['object']).copy()"
      ],
      "execution_count": 0,
      "outputs": []
    },
    {
      "cell_type": "code",
      "metadata": {
        "id": "_DEHbXm3ezpb",
        "colab_type": "code",
        "colab": {}
      },
      "source": [
        "column_names=list(categorical_data.columns)\n",
        "for feature in column_names:\n",
        "  categorical_data[feature]=categorical_data[feature].astype('category')\n",
        "for feature in ordinal:\n",
        "  categorical_data[feature]=categorical_data[feature].cat.codes\n",
        "#categorical_data.head()"
      ],
      "execution_count": 0,
      "outputs": []
    },
    {
      "cell_type": "code",
      "metadata": {
        "id": "e2_2wmgtuM_6",
        "colab_type": "code",
        "colab": {}
      },
      "source": [
        "data_copy=categorical_data.copy()\n",
        "nominal_encoded = pd.get_dummies(data_copy[nominal])\n",
        "data_copy = pd.concat([nominal_encoded,data_copy],axis=1) \n",
        "data_copy.drop(nominal,axis=1,inplace=True)\n",
        "new_data = pd.concat([data_copy,data[numerical],data[target]],axis=1)"
      ],
      "execution_count": 0,
      "outputs": []
    },
    {
      "cell_type": "code",
      "metadata": {
        "id": "dmxB4x1sf6mn",
        "colab_type": "code",
        "colab": {}
      },
      "source": [
        "all_features = list(new_data.columns)\n",
        "X = new_data.loc[:,all_features].values\n",
        "y = new_data.loc[:,[\"SalePrice\"]].values"
      ],
      "execution_count": 0,
      "outputs": []
    },
    {
      "cell_type": "code",
      "metadata": {
        "id": "BEm4DIH9gL-L",
        "colab_type": "code",
        "colab": {}
      },
      "source": [
        "X = StandardScaler().fit_transform(X)"
      ],
      "execution_count": 0,
      "outputs": []
    },
    {
      "cell_type": "code",
      "metadata": {
        "id": "8hhgMQc4gP3s",
        "colab_type": "code",
        "colab": {}
      },
      "source": [
        "pca = PCA(n_components=2)\n",
        "p_components = pca.fit_transform(X)\n",
        "pca_df = pd.DataFrame(p_components, columns=['PC1', 'PC2'])\n",
        "pca.explained_variance_ratio_"
      ],
      "execution_count": 0,
      "outputs": []
    },
    {
      "cell_type": "markdown",
      "metadata": {
        "id": "Y-x3HmYwZSC-",
        "colab_type": "text"
      },
      "source": [
        "PC1 Contains 7.2131% of information of the dataset\n",
        "\n",
        "---\n",
        "\n",
        "PC2 Contains 3.1260% of information of the dataset"
      ]
    },
    {
      "cell_type": "code",
      "metadata": {
        "id": "W29XSglXgLX7",
        "colab_type": "code",
        "colab": {
          "base_uri": "https://localhost:8080/",
          "height": 36
        },
        "outputId": "bc9b3f32-13e6-4401-a6b1-2a09e7a36d85"
      },
      "source": [
        "pca_var = PCA(.9)\n",
        "p_components = pca_var.fit_transform(X)\n",
        "#len(pca_var.explained_variance_ratio_)\n",
        "pca.n_components_"
      ],
      "execution_count": 71,
      "outputs": [
        {
          "output_type": "execute_result",
          "data": {
            "text/plain": [
              "117"
            ]
          },
          "metadata": {
            "tags": []
          },
          "execution_count": 71
        }
      ]
    },
    {
      "cell_type": "markdown",
      "metadata": {
        "id": "Pj_WIMsdgvlt",
        "colab_type": "text"
      },
      "source": [
        "To get 90% variance you would need 117 principal components"
      ]
    },
    {
      "cell_type": "code",
      "metadata": {
        "id": "juoOe7b4V4l0",
        "colab_type": "code",
        "colab": {}
      },
      "source": [
        "final_data = pd.concat([pca_df,data['target']], axis=1)"
      ],
      "execution_count": 0,
      "outputs": []
    }
  ]
}